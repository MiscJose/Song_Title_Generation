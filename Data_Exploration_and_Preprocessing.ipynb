{
 "cells": [
  {
   "cell_type": "code",
   "execution_count": 120,
   "id": "28021bef",
   "metadata": {},
   "outputs": [],
   "source": [
    "import pandas as pd\n",
    "import numpy as np\n",
    "import json\n",
    "import re"
   ]
  },
  {
   "cell_type": "code",
   "execution_count": 121,
   "id": "ab6309fd",
   "metadata": {},
   "outputs": [],
   "source": [
    "# Dataset attained from: https://www.cs.cornell.edu/~arb/data/genius-expertise/"
   ]
  },
  {
   "cell_type": "markdown",
   "id": "9931a7a0",
   "metadata": {},
   "source": [
    "# Annotation Dataset"
   ]
  },
  {
   "cell_type": "code",
   "execution_count": 122,
   "id": "ed9757bf",
   "metadata": {},
   "outputs": [],
   "source": [
    "with open('./data/genius-expertise/annotation_info.json', encoding='utf-8') as f:\n",
    "    temp = []\n",
    "    for line in f.readlines():\n",
    "        temp.append(json.loads(line))\n",
    "annotations_df = pd.DataFrame(temp)"
   ]
  },
  {
   "cell_type": "code",
   "execution_count": 123,
   "id": "674399d3",
   "metadata": {},
   "outputs": [
    {
     "data": {
      "text/html": [
       "<div>\n",
       "<style scoped>\n",
       "    .dataframe tbody tr th:only-of-type {\n",
       "        vertical-align: middle;\n",
       "    }\n",
       "\n",
       "    .dataframe tbody tr th {\n",
       "        vertical-align: top;\n",
       "    }\n",
       "\n",
       "    .dataframe thead th {\n",
       "        text-align: right;\n",
       "    }\n",
       "</style>\n",
       "<table border=\"1\" class=\"dataframe\">\n",
       "  <thead>\n",
       "    <tr style=\"text-align: right;\">\n",
       "      <th></th>\n",
       "      <th>time</th>\n",
       "      <th>type</th>\n",
       "      <th>votes</th>\n",
       "      <th>pyongs</th>\n",
       "      <th>acceptor</th>\n",
       "      <th>url</th>\n",
       "      <th>contribution_stats</th>\n",
       "      <th>edits_lst</th>\n",
       "      <th>song</th>\n",
       "      <th>lyrics</th>\n",
       "      <th>artist</th>\n",
       "      <th>content</th>\n",
       "      <th>user</th>\n",
       "    </tr>\n",
       "  </thead>\n",
       "  <tbody>\n",
       "    <tr>\n",
       "      <th>0</th>\n",
       "      <td>Jan 31, 2014 11:48:16 AM</td>\n",
       "      <td>reviewed</td>\n",
       "      <td>55</td>\n",
       "      <td>0</td>\n",
       "      <td>None</td>\n",
       "      <td>https://genius.com/2739115</td>\n",
       "      <td>[{'name': 'PiecesOfAMan', 'contribution': 73.7...</td>\n",
       "      <td>[{'name': 'https://genius.com/Incilin', 'time'...</td>\n",
       "      <td>Kendrick-lamar-swimming-pools-drank-lyrics</td>\n",
       "      <td>[Produced by T-Minus]</td>\n",
       "      <td>NaN</td>\n",
       "      <td>NaN</td>\n",
       "      <td>NaN</td>\n",
       "    </tr>\n",
       "    <tr>\n",
       "      <th>1</th>\n",
       "      <td>Sep 16, 2012 9:10:23 PM</td>\n",
       "      <td>reviewed</td>\n",
       "      <td>80</td>\n",
       "      <td>0</td>\n",
       "      <td>None</td>\n",
       "      <td>https://genius.com/1072360</td>\n",
       "      <td>[{'name': 'Incilin', 'contribution': 75.0}, {'...</td>\n",
       "      <td>[{'name': 'https://genius.com/Incilin', 'time'...</td>\n",
       "      <td>Kendrick-lamar-swimming-pools-drank-lyrics</td>\n",
       "      <td>[Intro]</td>\n",
       "      <td>NaN</td>\n",
       "      <td>NaN</td>\n",
       "      <td>NaN</td>\n",
       "    </tr>\n",
       "    <tr>\n",
       "      <th>2</th>\n",
       "      <td>Jul 13, 2012 5:25:57 PM</td>\n",
       "      <td>reviewed</td>\n",
       "      <td>392</td>\n",
       "      <td>1</td>\n",
       "      <td>TheseDays</td>\n",
       "      <td>https://genius.com/905517</td>\n",
       "      <td>[{'name': 'Haifisch', 'contribution': 31.82}, ...</td>\n",
       "      <td>[{'name': 'https://genius.com/Haifisch', 'time...</td>\n",
       "      <td>Kendrick-lamar-swimming-pools-drank-lyrics</td>\n",
       "      <td>Pour up (Drank), head shot (Drank)\\nSit down (...</td>\n",
       "      <td>NaN</td>\n",
       "      <td>NaN</td>\n",
       "      <td>NaN</td>\n",
       "    </tr>\n",
       "  </tbody>\n",
       "</table>\n",
       "</div>"
      ],
      "text/plain": [
       "                       time      type  votes  pyongs   acceptor  \\\n",
       "0  Jan 31, 2014 11:48:16 AM  reviewed     55       0       None   \n",
       "1   Sep 16, 2012 9:10:23 PM  reviewed     80       0       None   \n",
       "2   Jul 13, 2012 5:25:57 PM  reviewed    392       1  TheseDays   \n",
       "\n",
       "                          url  \\\n",
       "0  https://genius.com/2739115   \n",
       "1  https://genius.com/1072360   \n",
       "2   https://genius.com/905517   \n",
       "\n",
       "                                  contribution_stats  \\\n",
       "0  [{'name': 'PiecesOfAMan', 'contribution': 73.7...   \n",
       "1  [{'name': 'Incilin', 'contribution': 75.0}, {'...   \n",
       "2  [{'name': 'Haifisch', 'contribution': 31.82}, ...   \n",
       "\n",
       "                                           edits_lst  \\\n",
       "0  [{'name': 'https://genius.com/Incilin', 'time'...   \n",
       "1  [{'name': 'https://genius.com/Incilin', 'time'...   \n",
       "2  [{'name': 'https://genius.com/Haifisch', 'time...   \n",
       "\n",
       "                                         song  \\\n",
       "0  Kendrick-lamar-swimming-pools-drank-lyrics   \n",
       "1  Kendrick-lamar-swimming-pools-drank-lyrics   \n",
       "2  Kendrick-lamar-swimming-pools-drank-lyrics   \n",
       "\n",
       "                                              lyrics artist content user  \n",
       "0                              [Produced by T-Minus]    NaN     NaN  NaN  \n",
       "1                                            [Intro]    NaN     NaN  NaN  \n",
       "2  Pour up (Drank), head shot (Drank)\\nSit down (...    NaN     NaN  NaN  "
      ]
     },
     "execution_count": 123,
     "metadata": {},
     "output_type": "execute_result"
    }
   ],
   "source": [
    "# initial look\n",
    "annotations_df.head(3)"
   ]
  },
  {
   "cell_type": "code",
   "execution_count": 124,
   "id": "4d124eb9",
   "metadata": {},
   "outputs": [
    {
     "name": "stdout",
     "output_type": "stream",
     "text": [
      "Number of Annotated Songs: 393954\n",
      "Number of Annotated Songs after Filters: 322613\n"
     ]
    }
   ],
   "source": [
    "# i'm only interested in annotations with edits_lst, also the most recent edit\n",
    "print('Number of Annotated Songs: {}'.format(annotations_df.shape[0]))\n",
    "annotations_df = annotations_df.dropna(axis=0 ,subset=['edits_lst'])\n",
    "print('Number of Annotated Songs after Filters: {}'.format(annotations_df.shape[0]))"
   ]
  },
  {
   "cell_type": "code",
   "execution_count": 125,
   "id": "372d61bf",
   "metadata": {},
   "outputs": [
    {
     "data": {
      "text/plain": [
       "'<p>Here, the phrase “condom wrappers” is used as a homonym, alongside “condom rappers.” The origins of the latter term are disputed, but it has been theorized that “condom rappers” are either ones who rap incessantly about sex or artists from the ‘80s who warned against the dangers of unprotected intercourse.</p>\\n\\n<p>Kendrick reminisces about when he would dream of being as successful as the rappers he listened to. Back then, using condoms wasn’t considered “cool,” as the dangers of STDs were not very well known. At the time, Compton hip-hop was not yet famous—Compton was put on the map starting with <a href=\"https://genius.com/artists/Nwa\" rel=\"noopener\" data-api_path=\"/artists/974\">N.W.A</a>, who released their debut album <em>Straight Outta Compton</em> in 1988. Given the possible reference to 1980s hip-hop and condoms, this could also be a subtle shout-out to fellow Compton rapper and N.W.A member <a href=\"https://genius.com/artists/Eazy-e\" rel=\"noopener\" data-api_path=\"/artists/496\">Eazy-E</a>, who died from complications of AIDS in 1995.</p>\\n\\n<p><a href=\"https://genius.com/artists/The-norious-big\" rel=\"noopener\">The Notorious B.I.G.</a> also mentioned this cultural transition from a contraception-averse society to wearing condoms due to the dangers of disease on his September 1994 track, <a href=\"https://genius.com/1987\" rel=\"noopener\" data-api_path=\"/referents/1987\">“The What”</a>:</p>\\n\\n<blockquote><p>I used to get feels on a bitch<br>\\nNow I throw shields on the dick, to stop me from that HIV shit</p></blockquote>'"
      ]
     },
     "execution_count": 125,
     "metadata": {},
     "output_type": "execute_result"
    }
   ],
   "source": [
    "# looking at an example\n",
    "annotations_df.iloc[10]['edits_lst'][0]['content']"
   ]
  },
  {
   "cell_type": "code",
   "execution_count": 126,
   "id": "40f42677",
   "metadata": {},
   "outputs": [],
   "source": [
    "def clean_edits_lst(x):\n",
    "    # get first instance of edit\n",
    "    x = x[0]['content']\n",
    "    # extract text body from brackets (https://stackoverflow.com/a/12982689/21492082)\n",
    "    x = re.sub(re.compile('<.*?>') ,\"\",x)\n",
    "    # remove end of line\n",
    "    x = x.replace('\\n', '')\n",
    "    return x"
   ]
  },
  {
   "cell_type": "code",
   "execution_count": 127,
   "id": "708a0f66",
   "metadata": {},
   "outputs": [
    {
     "name": "stdout",
     "output_type": "stream",
     "text": [
      "Here, the phrase “condom wrappers” is used as a homonym, alongside “condom rappers.” The origins of the latter term are disputed, but it has been theorized that “condom rappers” are either ones who rap incessantly about sex or artists from the ‘80s who warned against the dangers of unprotected intercourse.Kendrick reminisces about when he would dream of being as successful as the rappers he listened to. Back then, using condoms wasn’t considered “cool,” as the dangers of STDs were not very well known. At the time, Compton hip-hop was not yet famous—Compton was put on the map starting with N.W.A, who released their debut album Straight Outta Compton in 1988. Given the possible reference to 1980s hip-hop and condoms, this could also be a subtle shout-out to fellow Compton rapper and N.W.A member Eazy-E, who died from complications of AIDS in 1995.The Notorious B.I.G. also mentioned this cultural transition from a contraception-averse society to wearing condoms due to the dangers of disease on his September 1994 track, “The What”:I used to get feels on a bitchNow I throw shields on the dick, to stop me from that HIV shit\n"
     ]
    }
   ],
   "source": [
    "# looking at a clean example\n",
    "print(clean_edits_lst(annotations_df.iloc[10]['edits_lst']))"
   ]
  },
  {
   "cell_type": "code",
   "execution_count": 128,
   "id": "35e37bbf",
   "metadata": {},
   "outputs": [],
   "source": [
    "# map function to entire column\n",
    "annotations_df['edits_lst'] = annotations_df['edits_lst'].apply(clean_edits_lst)"
   ]
  },
  {
   "cell_type": "code",
   "execution_count": 129,
   "id": "38156d7d",
   "metadata": {},
   "outputs": [],
   "source": [
    "# save cleaned dataset\n",
    "annotations_df.to_csv('./data/genius-expertiste_clean/annotation.csv', index=False)"
   ]
  },
  {
   "cell_type": "markdown",
   "id": "898eefa5",
   "metadata": {},
   "source": [
    "# Lyrics Dataset"
   ]
  },
  {
   "cell_type": "code",
   "execution_count": 130,
   "id": "3879eb31",
   "metadata": {},
   "outputs": [],
   "source": [
    "with open('./data/genius-expertise/lyrics.jl', encoding='utf-8') as f:\n",
    "    temp = []\n",
    "    for line in f.readlines():\n",
    "        temp.append(json.loads(line))\n",
    "lyrics_df = pd.DataFrame(temp)"
   ]
  },
  {
   "cell_type": "code",
   "execution_count": 131,
   "id": "74cdd506",
   "metadata": {},
   "outputs": [
    {
     "data": {
      "text/plain": [
       "\"\\n\\n[Intro: Mr. Talkbox]\\n\\n[Pre-Chorus: DJ Dahi & Kendrick Lamar]\\nI said I'm geeked and I’m fired up (Fired, fire)\\nAll I want tonight is just get high (High, high, high)\\nGirl, you look so good, it's to die for (Die for)\\nOoh, that pussy good, it's to die for (In fire)\\n\\n[Chorus 1: Kendrick Lamar & Rihanna]\\nIt’s a secret society\\nAll we ask is trust (All we ask is trust)\\nAll we got is us\\nLoyalty, loyalty, loyalty\\nLoyalty, loyalty, loyalty\\n\\n[Verse 1: Kendrick Lamar]\\nKung Fu Kenny now\\nMy resume is real enough for two millenniums\\nA better way to make a wave, stop defendin' them\\nI meditate and moderate all of my wins again\\nI'm hangin' on the fence again\\nI'm always on your mind\\nI put my lyric and my lifeline on the line\\nAnd ain't no limit when I might shine, might grind\\nYou rollin' with it at the right time, right now\\n(Only for the dollar sign)\\n\\n[Verse 2: Rihanna]\\nBad girl RiRi now\\nSwerve, swerve, swerve, swerve, leave it now\\nOn your pulse like it's EDM\\nGas in the bitch like it’s premium\\nHaul ass on a bitch all in the fast lane\\nBeen a bad bitch way before any cash came\\nI’m established, hundred carats on my name\\nRun the atlas, I'm a natural, I’m alright\\n\\n[Verse 3: Kendrick Lamar & Rihanna]\\nI'm a savage, I'm an asshole, I'm a king\\nShimmy ya, shimmy ya, shimmy ya rah (Yeah)\\nYou can tell your nigga he can meet me outside (Yeah)\\nYou can babysit him when I leave him outside\\nAin’t no other love like the one I know\\nI done been down so long lost hope\\nI done came down so hard I slowed\\nHonestly forever, all a real nigga want\\n\\n[Pre-Chorus: DJ Dahi & Kendrick Lamar]\\nI said I'm geeked and I'm fired up (Fired, fire)\\nAll I want tonight is just to get high up (Yeah)\\nAll I want is, all I want is\\n\\n[Chorus 2: Kendrick Lamar & Rihanna]\\nLoyalty, loyalty, loyalty\\nLoyalty, loyalty, loyalty\\n10-4, no switchin' sides\\nFeel somethin' wrong\\nYou actin' shifty, you don't ride\\nWith me no more, I need\\nLoyalty, loyalty, loyalty\\nLoyalty, loyalty, loyalty\\n\\n[Verse 4: Kendrick Lamar]\\nTell me who you loyal to\\nIs it money? Is it fame? Is it weed? Is it drink?\\nIs it comin' down with the loud pipes in the rain?\\nBig chillin', only for the power in your name\\nTell me who you loyal to\\nIs it love for the streets when the lights get dark?\\nIs it unconditional when the 'Rari don't start?\\nTell me when your loyalty is comin' from the heart\\n\\n[Verse 5: Rihanna & Kendrick Lamar]\\nTell me who you loyal to\\nDo it start with your woman or your man? (Mmm)\\nDo it end with your family and friends? (Mmm)\\nAre you loyal to yourself in advance?\\nI said, tell me who you loyal to\\nIs it anybody that you would lie for?\\nAnybody you would slide for?\\nAnybody you would die for?\\nThat's what God for\\n\\n[Pre-Chorus: DJ Dahi & Kendrick Lamar]\\nI said I'm geeked and I'm fired up (Fired, fire)\\nAll I want tonight is just to get high up (Yeah)\\nAll I want is, all I want is\\n\\n[Chorus 2: Kendrick Lamar & Rihanna]\\nLoyalty, loyalty, loyalty\\nLoyalty, loyalty, loyalty\\n10-4, no switchin' sides\\nFeel somethin' wrong\\nYou actin' shifty, you don't ride\\nWith me no more, I need\\nLoyalty, loyalty, loyalty\\nLoyalty, loyalty, loyalty\\n\\n[Outro: Kendrick Lamar & Rihanna, Rihanna]\\nIt's so hard to be humble\\nIt's so hard to be\\nLord knows I'm tryin'\\nLord knows I'm dyin', baby\\n\\n\""
      ]
     },
     "execution_count": 131,
     "metadata": {},
     "output_type": "execute_result"
    }
   ],
   "source": [
    "# looking at an example\n",
    "lyrics_df.iloc[10]['lyrics']"
   ]
  },
  {
   "cell_type": "code",
   "execution_count": 132,
   "id": "d2b5ab26",
   "metadata": {},
   "outputs": [
    {
     "data": {
      "text/plain": [
       "\"  [Intro: Mr. Talkbox]  [Pre-Chorus: DJ Dahi & Kendrick Lamar] I said I'm geeked and I’m fired up (Fired, fire) All I want tonight is just get high (High, high, high) Girl, you look so good, it's to die for (Die for) Ooh, that pussy good, it's to die for (In fire)  [Chorus 1: Kendrick Lamar & Rihanna] It’s a secret society All we ask is trust (All we ask is trust) All we got is us Loyalty, loyalty, loyalty Loyalty, loyalty, loyalty  [Verse 1: Kendrick Lamar] Kung Fu Kenny now My resume is real enough for two millenniums A better way to make a wave, stop defendin' them I meditate and moderate all of my wins again I'm hangin' on the fence again I'm always on your mind I put my lyric and my lifeline on the line And ain't no limit when I might shine, might grind You rollin' with it at the right time, right now (Only for the dollar sign)  [Verse 2: Rihanna] Bad girl RiRi now Swerve, swerve, swerve, swerve, leave it now On your pulse like it's EDM Gas in the bitch like it’s premium Haul ass on a bitch all in the fast lane Been a bad bitch way before any cash came I’m established, hundred carats on my name Run the atlas, I'm a natural, I’m alright  [Verse 3: Kendrick Lamar & Rihanna] I'm a savage, I'm an asshole, I'm a king Shimmy ya, shimmy ya, shimmy ya rah (Yeah) You can tell your nigga he can meet me outside (Yeah) You can babysit him when I leave him outside Ain’t no other love like the one I know I done been down so long lost hope I done came down so hard I slowed Honestly forever, all a real nigga want  [Pre-Chorus: DJ Dahi & Kendrick Lamar] I said I'm geeked and I'm fired up (Fired, fire) All I want tonight is just to get high up (Yeah) All I want is, all I want is  [Chorus 2: Kendrick Lamar & Rihanna] Loyalty, loyalty, loyalty Loyalty, loyalty, loyalty 10-4, no switchin' sides Feel somethin' wrong You actin' shifty, you don't ride With me no more, I need Loyalty, loyalty, loyalty Loyalty, loyalty, loyalty  [Verse 4: Kendrick Lamar] Tell me who you loyal to Is it money? Is it fame? Is it weed? Is it drink? Is it comin' down with the loud pipes in the rain? Big chillin', only for the power in your name Tell me who you loyal to Is it love for the streets when the lights get dark? Is it unconditional when the 'Rari don't start? Tell me when your loyalty is comin' from the heart  [Verse 5: Rihanna & Kendrick Lamar] Tell me who you loyal to Do it start with your woman or your man? (Mmm) Do it end with your family and friends? (Mmm) Are you loyal to yourself in advance? I said, tell me who you loyal to Is it anybody that you would lie for? Anybody you would slide for? Anybody you would die for? That's what God for  [Pre-Chorus: DJ Dahi & Kendrick Lamar] I said I'm geeked and I'm fired up (Fired, fire) All I want tonight is just to get high up (Yeah) All I want is, all I want is  [Chorus 2: Kendrick Lamar & Rihanna] Loyalty, loyalty, loyalty Loyalty, loyalty, loyalty 10-4, no switchin' sides Feel somethin' wrong You actin' shifty, you don't ride With me no more, I need Loyalty, loyalty, loyalty Loyalty, loyalty, loyalty  [Outro: Kendrick Lamar & Rihanna, Rihanna] It's so hard to be humble It's so hard to be Lord knows I'm tryin' Lord knows I'm dyin', baby  \""
      ]
     },
     "execution_count": 132,
     "metadata": {},
     "output_type": "execute_result"
    }
   ],
   "source": [
    "# looks like not much is required other than removing the end of line chars\n",
    "lyrics_df.iloc[10]['lyrics'].replace('\\n', ' ')"
   ]
  },
  {
   "cell_type": "code",
   "execution_count": 133,
   "id": "449d8dee",
   "metadata": {},
   "outputs": [
    {
     "data": {
      "text/html": [
       "<div>\n",
       "<style scoped>\n",
       "    .dataframe tbody tr th:only-of-type {\n",
       "        vertical-align: middle;\n",
       "    }\n",
       "\n",
       "    .dataframe tbody tr th {\n",
       "        vertical-align: top;\n",
       "    }\n",
       "\n",
       "    .dataframe thead th {\n",
       "        text-align: right;\n",
       "    }\n",
       "</style>\n",
       "<table border=\"1\" class=\"dataframe\">\n",
       "  <thead>\n",
       "    <tr style=\"text-align: right;\">\n",
       "      <th></th>\n",
       "      <th>song</th>\n",
       "      <th>lyrics</th>\n",
       "    </tr>\n",
       "  </thead>\n",
       "  <tbody>\n",
       "    <tr>\n",
       "      <th>0</th>\n",
       "      <td>Kendrick-lamar-swimming-pools-drank-lyrics</td>\n",
       "      <td>[Produced by T-Minus]  [Intro] Pour up (Dran...</td>\n",
       "    </tr>\n",
       "    <tr>\n",
       "      <th>1</th>\n",
       "      <td>Kendrick-lamar-money-trees-lyrics</td>\n",
       "      <td>[Produced by DJ Dahi]  [Verse 1: Kendrick La...</td>\n",
       "    </tr>\n",
       "    <tr>\n",
       "      <th>2</th>\n",
       "      <td>Kendrick-lamar-xxx-lyrics</td>\n",
       "      <td>[Intro: Bēkon &amp; Kid Capri] America, God bles...</td>\n",
       "    </tr>\n",
       "    <tr>\n",
       "      <th>3</th>\n",
       "      <td>A-ap-rocky-fuckin-problems-lyrics</td>\n",
       "      <td>[Chorus: 2 Chainz, Drake &amp; Both (A$AP Rocky)...</td>\n",
       "    </tr>\n",
       "    <tr>\n",
       "      <th>4</th>\n",
       "      <td>Kendrick-lamar-dna-lyrics</td>\n",
       "      <td>[Verse 1] I got, I got, I got, I got— Loyalt...</td>\n",
       "    </tr>\n",
       "    <tr>\n",
       "      <th>...</th>\n",
       "      <td>...</td>\n",
       "      <td>...</td>\n",
       "    </tr>\n",
       "    <tr>\n",
       "      <th>37988</th>\n",
       "      <td>Pnl-tchiki-tchiki-lyrics</td>\n",
       "      <td>[Intro : N.O.S.] Ouais, ouais, ouais, ouais,...</td>\n",
       "    </tr>\n",
       "    <tr>\n",
       "      <th>37989</th>\n",
       "      <td>Pnl-chang-lyrics</td>\n",
       "      <td>[Couplet 1 : Ademo] Chang, chang, chang, j'm...</td>\n",
       "    </tr>\n",
       "    <tr>\n",
       "      <th>37990</th>\n",
       "      <td>Pnl-simba-lyrics</td>\n",
       "      <td>[Intro: N.O.S] Ouais, Ah on va voir Ouais, o...</td>\n",
       "    </tr>\n",
       "    <tr>\n",
       "      <th>37991</th>\n",
       "      <td>Pnl-je-thaine-version-orange-lyrics</td>\n",
       "      <td>[Produit par BBP]  [Couplet 1 : Ademo] Que d...</td>\n",
       "    </tr>\n",
       "    <tr>\n",
       "      <th>37992</th>\n",
       "      <td>Drake-and-michael-jackson-dont-matter-to-me-ly...</td>\n",
       "      <td>[Verse 1: Drake] Ayy, wild things you're doi...</td>\n",
       "    </tr>\n",
       "  </tbody>\n",
       "</table>\n",
       "<p>37993 rows × 2 columns</p>\n",
       "</div>"
      ],
      "text/plain": [
       "                                                    song  \\\n",
       "0             Kendrick-lamar-swimming-pools-drank-lyrics   \n",
       "1                      Kendrick-lamar-money-trees-lyrics   \n",
       "2                              Kendrick-lamar-xxx-lyrics   \n",
       "3                      A-ap-rocky-fuckin-problems-lyrics   \n",
       "4                              Kendrick-lamar-dna-lyrics   \n",
       "...                                                  ...   \n",
       "37988                           Pnl-tchiki-tchiki-lyrics   \n",
       "37989                                   Pnl-chang-lyrics   \n",
       "37990                                   Pnl-simba-lyrics   \n",
       "37991                Pnl-je-thaine-version-orange-lyrics   \n",
       "37992  Drake-and-michael-jackson-dont-matter-to-me-ly...   \n",
       "\n",
       "                                                  lyrics  \n",
       "0        [Produced by T-Minus]  [Intro] Pour up (Dran...  \n",
       "1        [Produced by DJ Dahi]  [Verse 1: Kendrick La...  \n",
       "2        [Intro: Bēkon & Kid Capri] America, God bles...  \n",
       "3        [Chorus: 2 Chainz, Drake & Both (A$AP Rocky)...  \n",
       "4        [Verse 1] I got, I got, I got, I got— Loyalt...  \n",
       "...                                                  ...  \n",
       "37988    [Intro : N.O.S.] Ouais, ouais, ouais, ouais,...  \n",
       "37989    [Couplet 1 : Ademo] Chang, chang, chang, j'm...  \n",
       "37990    [Intro: N.O.S] Ouais, Ah on va voir Ouais, o...  \n",
       "37991    [Produit par BBP]  [Couplet 1 : Ademo] Que d...  \n",
       "37992    [Verse 1: Drake] Ayy, wild things you're doi...  \n",
       "\n",
       "[37993 rows x 2 columns]"
      ]
     },
     "execution_count": 133,
     "metadata": {},
     "output_type": "execute_result"
    }
   ],
   "source": [
    "# map function to entire column\n",
    "lyrics_df['lyrics'] = lyrics_df['lyrics'].apply(lambda x: x.replace('\\n', ' '))\n",
    "lyrics_df"
   ]
  },
  {
   "cell_type": "code",
   "execution_count": 134,
   "id": "f819b42b",
   "metadata": {},
   "outputs": [],
   "source": [
    "# cleaning song column\n",
    "\n",
    "songs_dict = {}\n",
    "with open('./data/genius-expertise/artist_info.json', encoding='utf-8') as f:\n",
    "    temp = []\n",
    "    for line in f.readlines():\n",
    "        line = json.loads(line)\n",
    "        for song in line['songs']:\n",
    "            if '-and-' in song or 'mtv' in song or 'version' in song:\n",
    "                continue\n",
    "            artist = line['url_name']\n",
    "            if artist in song:\n",
    "                if song in songs_dict:\n",
    "                    pass\n",
    "                else:\n",
    "                    songs_dict[song] = ' '.join(song.replace(artist, ' ').split('-')[1:-1])"
   ]
  },
  {
   "cell_type": "code",
   "execution_count": 135,
   "id": "8d18a384",
   "metadata": {},
   "outputs": [],
   "source": [
    "lyrics_df['title'] = lyrics_df['song'].apply(lambda x: songs_dict.get(x, np.nan))\n",
    "lyrics_df = lyrics_df.dropna()"
   ]
  },
  {
   "cell_type": "code",
   "execution_count": 136,
   "id": "e44efc73",
   "metadata": {},
   "outputs": [
    {
     "data": {
      "text/html": [
       "<div>\n",
       "<style scoped>\n",
       "    .dataframe tbody tr th:only-of-type {\n",
       "        vertical-align: middle;\n",
       "    }\n",
       "\n",
       "    .dataframe tbody tr th {\n",
       "        vertical-align: top;\n",
       "    }\n",
       "\n",
       "    .dataframe thead th {\n",
       "        text-align: right;\n",
       "    }\n",
       "</style>\n",
       "<table border=\"1\" class=\"dataframe\">\n",
       "  <thead>\n",
       "    <tr style=\"text-align: right;\">\n",
       "      <th></th>\n",
       "      <th>song</th>\n",
       "      <th>lyrics</th>\n",
       "      <th>title</th>\n",
       "    </tr>\n",
       "  </thead>\n",
       "  <tbody>\n",
       "    <tr>\n",
       "      <th>0</th>\n",
       "      <td>Kendrick-lamar-swimming-pools-drank-lyrics</td>\n",
       "      <td>[Produced by T-Minus]  [Intro] Pour up (Dran...</td>\n",
       "      <td>swimming pools drank</td>\n",
       "    </tr>\n",
       "    <tr>\n",
       "      <th>1</th>\n",
       "      <td>Kendrick-lamar-money-trees-lyrics</td>\n",
       "      <td>[Produced by DJ Dahi]  [Verse 1: Kendrick La...</td>\n",
       "      <td>money trees</td>\n",
       "    </tr>\n",
       "    <tr>\n",
       "      <th>2</th>\n",
       "      <td>Kendrick-lamar-xxx-lyrics</td>\n",
       "      <td>[Intro: Bēkon &amp; Kid Capri] America, God bles...</td>\n",
       "      <td>xxx</td>\n",
       "    </tr>\n",
       "    <tr>\n",
       "      <th>3</th>\n",
       "      <td>A-ap-rocky-fuckin-problems-lyrics</td>\n",
       "      <td>[Chorus: 2 Chainz, Drake &amp; Both (A$AP Rocky)...</td>\n",
       "      <td>fuckin problems</td>\n",
       "    </tr>\n",
       "    <tr>\n",
       "      <th>4</th>\n",
       "      <td>Kendrick-lamar-dna-lyrics</td>\n",
       "      <td>[Verse 1] I got, I got, I got, I got— Loyalt...</td>\n",
       "      <td>dna</td>\n",
       "    </tr>\n",
       "  </tbody>\n",
       "</table>\n",
       "</div>"
      ],
      "text/plain": [
       "                                         song  \\\n",
       "0  Kendrick-lamar-swimming-pools-drank-lyrics   \n",
       "1           Kendrick-lamar-money-trees-lyrics   \n",
       "2                   Kendrick-lamar-xxx-lyrics   \n",
       "3           A-ap-rocky-fuckin-problems-lyrics   \n",
       "4                   Kendrick-lamar-dna-lyrics   \n",
       "\n",
       "                                              lyrics                 title  \n",
       "0    [Produced by T-Minus]  [Intro] Pour up (Dran...  swimming pools drank  \n",
       "1    [Produced by DJ Dahi]  [Verse 1: Kendrick La...           money trees  \n",
       "2    [Intro: Bēkon & Kid Capri] America, God bles...                   xxx  \n",
       "3    [Chorus: 2 Chainz, Drake & Both (A$AP Rocky)...       fuckin problems  \n",
       "4    [Verse 1] I got, I got, I got, I got— Loyalt...                   dna  "
      ]
     },
     "execution_count": 136,
     "metadata": {},
     "output_type": "execute_result"
    }
   ],
   "source": [
    "lyrics_df.head()"
   ]
  },
  {
   "cell_type": "code",
   "execution_count": 137,
   "id": "4a79bcfe",
   "metadata": {},
   "outputs": [],
   "source": [
    "# save cleaned dataset\n",
    "lyrics_df.to_csv('./data/genius-expertiste_clean/lyrics.csv', index=False)"
   ]
  },
  {
   "cell_type": "markdown",
   "id": "3a10ed22",
   "metadata": {},
   "source": [
    "# Inner Join of Datasets"
   ]
  },
  {
   "cell_type": "code",
   "execution_count": 138,
   "id": "14a7c486",
   "metadata": {},
   "outputs": [],
   "source": [
    "annotations_df = pd.read_csv('./data/genius-expertiste_clean/annotation.csv')\n",
    "lyrics_df = pd.read_csv('./data/genius-expertiste_clean/lyrics.csv')"
   ]
  },
  {
   "cell_type": "code",
   "execution_count": 139,
   "id": "b74df6d7",
   "metadata": {},
   "outputs": [],
   "source": [
    "songs = lyrics_df.merge(annotations_df, how='inner', on='song')"
   ]
  },
  {
   "cell_type": "code",
   "execution_count": 140,
   "id": "4785b5c7",
   "metadata": {},
   "outputs": [],
   "source": [
    "# multiple people can submit annotations per song; I want the highest voted one\n",
    "# incase I want to use the annotation column\n",
    "\n",
    "songs = songs.loc[songs.reset_index().groupby(['song'])['votes'].idxmax()]"
   ]
  },
  {
   "cell_type": "code",
   "execution_count": 141,
   "id": "b0f88ca7",
   "metadata": {},
   "outputs": [
    {
     "data": {
      "text/html": [
       "<div>\n",
       "<style scoped>\n",
       "    .dataframe tbody tr th:only-of-type {\n",
       "        vertical-align: middle;\n",
       "    }\n",
       "\n",
       "    .dataframe tbody tr th {\n",
       "        vertical-align: top;\n",
       "    }\n",
       "\n",
       "    .dataframe thead th {\n",
       "        text-align: right;\n",
       "    }\n",
       "</style>\n",
       "<table border=\"1\" class=\"dataframe\">\n",
       "  <thead>\n",
       "    <tr style=\"text-align: right;\">\n",
       "      <th></th>\n",
       "      <th>song</th>\n",
       "      <th>lyrics_x</th>\n",
       "      <th>title</th>\n",
       "      <th>time</th>\n",
       "      <th>type</th>\n",
       "      <th>votes</th>\n",
       "      <th>pyongs</th>\n",
       "      <th>acceptor</th>\n",
       "      <th>url</th>\n",
       "      <th>contribution_stats</th>\n",
       "      <th>edits_lst</th>\n",
       "      <th>lyrics_y</th>\n",
       "      <th>artist</th>\n",
       "      <th>content</th>\n",
       "      <th>user</th>\n",
       "    </tr>\n",
       "  </thead>\n",
       "  <tbody>\n",
       "    <tr>\n",
       "      <th>221344</th>\n",
       "      <td>101barz-fresku-studiosessie-272-lyrics</td>\n",
       "      <td>[Verse] Eey Rare jongens die Romeinen Nieman...</td>\n",
       "      <td>fresku studiosessie 272</td>\n",
       "      <td>Nov 6, 2017 12:47:51 PM</td>\n",
       "      <td>reviewed</td>\n",
       "      <td>11</td>\n",
       "      <td>0</td>\n",
       "      <td>Liampjuh</td>\n",
       "      <td>https://genius.com/12999733</td>\n",
       "      <td>[{'name': 'LuukVerheggen', 'contribution': 69....</td>\n",
       "      <td>Hier verwijst Fresku naar de stripfiguren Aste...</td>\n",
       "      <td>Rare jongens die Romeinen\\nNiemand heeft een h...</td>\n",
       "      <td>NaN</td>\n",
       "      <td>NaN</td>\n",
       "      <td>NaN</td>\n",
       "    </tr>\n",
       "    <tr>\n",
       "      <th>216669</th>\n",
       "      <td>10kcaash-swajjurkicks-lyrics</td>\n",
       "      <td>[Chorus: 10k.Caash] Lean with my Brisk (Lean...</td>\n",
       "      <td>swajjurkicks</td>\n",
       "      <td>Dec 27, 2018 12:49:37 PM</td>\n",
       "      <td>reviewed</td>\n",
       "      <td>2</td>\n",
       "      <td>0</td>\n",
       "      <td>NaN</td>\n",
       "      <td>https://genius.com/16097071</td>\n",
       "      <td>[{'name': 'blustery', 'contribution': 100.0}]</td>\n",
       "      <td>ChaseTheMoney is the producer for this song. V...</td>\n",
       "      <td>ChaseTheMoney, ChaseTheMoney</td>\n",
       "      <td>NaN</td>\n",
       "      <td>NaN</td>\n",
       "      <td>NaN</td>\n",
       "    </tr>\n",
       "    <tr>\n",
       "      <th>196975</th>\n",
       "      <td>112-only-you-bad-boy-remix-lyrics</td>\n",
       "      <td>[Pre-Intro: 112] Keep it real (keep it real)...</td>\n",
       "      <td>only you bad boy remix</td>\n",
       "      <td>Sep 25, 2011 10:09:20 PM</td>\n",
       "      <td>reviewed</td>\n",
       "      <td>7</td>\n",
       "      <td>1</td>\n",
       "      <td>NaN</td>\n",
       "      <td>https://genius.com/375950</td>\n",
       "      <td>[{'name': 'bjax', 'contribution': 100.0}]</td>\n",
       "      <td>Biggie’s accountant gets a shoutout!</td>\n",
       "      <td>Bert Padell</td>\n",
       "      <td>NaN</td>\n",
       "      <td>NaN</td>\n",
       "      <td>NaN</td>\n",
       "    </tr>\n",
       "    <tr>\n",
       "      <th>197256</th>\n",
       "      <td>112-only-you-lyrics</td>\n",
       "      <td>[Verse 1: Q Parker] Oh, I need to know where...</td>\n",
       "      <td>only you</td>\n",
       "      <td>Jan 4, 2017 10:40:35 AM</td>\n",
       "      <td>reviewed</td>\n",
       "      <td>2</td>\n",
       "      <td>0</td>\n",
       "      <td>bfred</td>\n",
       "      <td>https://genius.com/11117933</td>\n",
       "      <td>[{'name': 'AintNothinLikeDaOldSchool', 'contri...</td>\n",
       "      <td>“Pablo” is a reference to Colombian drug lord ...</td>\n",
       "      <td>Cats named Pablo in milked out Diablos</td>\n",
       "      <td>NaN</td>\n",
       "      <td>NaN</td>\n",
       "      <td>NaN</td>\n",
       "    </tr>\n",
       "    <tr>\n",
       "      <th>230199</th>\n",
       "      <td>113-on-sait-lfaire-lyrics</td>\n",
       "      <td>[Couplet 1 : Booba] J'ai quelques principes ...</td>\n",
       "      <td>on sait lfaire</td>\n",
       "      <td>Jun 24, 2012 9:41:25 AM</td>\n",
       "      <td>reviewed</td>\n",
       "      <td>3</td>\n",
       "      <td>0</td>\n",
       "      <td>Clement_RGF</td>\n",
       "      <td>https://genius.com/865004</td>\n",
       "      <td>[{'name': 'Clement_RGF', 'contribution': 50.0}...</td>\n",
       "      <td>En effet, peu de rappeurs arrive à vivre plein...</td>\n",
       "      <td>Ils croient tous qu'on veut faire des thunes e...</td>\n",
       "      <td>NaN</td>\n",
       "      <td>NaN</td>\n",
       "      <td>NaN</td>\n",
       "    </tr>\n",
       "  </tbody>\n",
       "</table>\n",
       "</div>"
      ],
      "text/plain": [
       "                                          song  \\\n",
       "221344  101barz-fresku-studiosessie-272-lyrics   \n",
       "216669            10kcaash-swajjurkicks-lyrics   \n",
       "196975       112-only-you-bad-boy-remix-lyrics   \n",
       "197256                     112-only-you-lyrics   \n",
       "230199               113-on-sait-lfaire-lyrics   \n",
       "\n",
       "                                                 lyrics_x  \\\n",
       "221344    [Verse] Eey Rare jongens die Romeinen Nieman...   \n",
       "216669    [Chorus: 10k.Caash] Lean with my Brisk (Lean...   \n",
       "196975    [Pre-Intro: 112] Keep it real (keep it real)...   \n",
       "197256    [Verse 1: Q Parker] Oh, I need to know where...   \n",
       "230199    [Couplet 1 : Booba] J'ai quelques principes ...   \n",
       "\n",
       "                          title                      time      type  votes  \\\n",
       "221344  fresku studiosessie 272   Nov 6, 2017 12:47:51 PM  reviewed     11   \n",
       "216669             swajjurkicks  Dec 27, 2018 12:49:37 PM  reviewed      2   \n",
       "196975   only you bad boy remix  Sep 25, 2011 10:09:20 PM  reviewed      7   \n",
       "197256                 only you   Jan 4, 2017 10:40:35 AM  reviewed      2   \n",
       "230199           on sait lfaire   Jun 24, 2012 9:41:25 AM  reviewed      3   \n",
       "\n",
       "        pyongs     acceptor                          url  \\\n",
       "221344       0     Liampjuh  https://genius.com/12999733   \n",
       "216669       0          NaN  https://genius.com/16097071   \n",
       "196975       1          NaN    https://genius.com/375950   \n",
       "197256       0        bfred  https://genius.com/11117933   \n",
       "230199       0  Clement_RGF    https://genius.com/865004   \n",
       "\n",
       "                                       contribution_stats  \\\n",
       "221344  [{'name': 'LuukVerheggen', 'contribution': 69....   \n",
       "216669      [{'name': 'blustery', 'contribution': 100.0}]   \n",
       "196975          [{'name': 'bjax', 'contribution': 100.0}]   \n",
       "197256  [{'name': 'AintNothinLikeDaOldSchool', 'contri...   \n",
       "230199  [{'name': 'Clement_RGF', 'contribution': 50.0}...   \n",
       "\n",
       "                                                edits_lst  \\\n",
       "221344  Hier verwijst Fresku naar de stripfiguren Aste...   \n",
       "216669  ChaseTheMoney is the producer for this song. V...   \n",
       "196975               Biggie’s accountant gets a shoutout!   \n",
       "197256  “Pablo” is a reference to Colombian drug lord ...   \n",
       "230199  En effet, peu de rappeurs arrive à vivre plein...   \n",
       "\n",
       "                                                 lyrics_y  artist  content  \\\n",
       "221344  Rare jongens die Romeinen\\nNiemand heeft een h...     NaN      NaN   \n",
       "216669                       ChaseTheMoney, ChaseTheMoney     NaN      NaN   \n",
       "196975                                        Bert Padell     NaN      NaN   \n",
       "197256             Cats named Pablo in milked out Diablos     NaN      NaN   \n",
       "230199  Ils croient tous qu'on veut faire des thunes e...     NaN      NaN   \n",
       "\n",
       "        user  \n",
       "221344   NaN  \n",
       "216669   NaN  \n",
       "196975   NaN  \n",
       "197256   NaN  \n",
       "230199   NaN  "
      ]
     },
     "execution_count": 141,
     "metadata": {},
     "output_type": "execute_result"
    }
   ],
   "source": [
    "songs.head()"
   ]
  },
  {
   "cell_type": "code",
   "execution_count": 142,
   "id": "97929352",
   "metadata": {},
   "outputs": [
    {
     "data": {
      "text/html": [
       "<div>\n",
       "<style scoped>\n",
       "    .dataframe tbody tr th:only-of-type {\n",
       "        vertical-align: middle;\n",
       "    }\n",
       "\n",
       "    .dataframe tbody tr th {\n",
       "        vertical-align: top;\n",
       "    }\n",
       "\n",
       "    .dataframe thead th {\n",
       "        text-align: right;\n",
       "    }\n",
       "</style>\n",
       "<table border=\"1\" class=\"dataframe\">\n",
       "  <thead>\n",
       "    <tr style=\"text-align: right;\">\n",
       "      <th></th>\n",
       "      <th>lyrics</th>\n",
       "      <th>title</th>\n",
       "    </tr>\n",
       "  </thead>\n",
       "  <tbody>\n",
       "    <tr>\n",
       "      <th>221344</th>\n",
       "      <td>[Verse] Eey Rare jongens die Romeinen Nieman...</td>\n",
       "      <td>fresku studiosessie 272</td>\n",
       "    </tr>\n",
       "    <tr>\n",
       "      <th>216669</th>\n",
       "      <td>[Chorus: 10k.Caash] Lean with my Brisk (Lean...</td>\n",
       "      <td>swajjurkicks</td>\n",
       "    </tr>\n",
       "    <tr>\n",
       "      <th>196975</th>\n",
       "      <td>[Pre-Intro: 112] Keep it real (keep it real)...</td>\n",
       "      <td>only you bad boy remix</td>\n",
       "    </tr>\n",
       "    <tr>\n",
       "      <th>197256</th>\n",
       "      <td>[Verse 1: Q Parker] Oh, I need to know where...</td>\n",
       "      <td>only you</td>\n",
       "    </tr>\n",
       "    <tr>\n",
       "      <th>230199</th>\n",
       "      <td>[Couplet 1 : Booba] J'ai quelques principes ...</td>\n",
       "      <td>on sait lfaire</td>\n",
       "    </tr>\n",
       "  </tbody>\n",
       "</table>\n",
       "</div>"
      ],
      "text/plain": [
       "                                                   lyrics  \\\n",
       "221344    [Verse] Eey Rare jongens die Romeinen Nieman...   \n",
       "216669    [Chorus: 10k.Caash] Lean with my Brisk (Lean...   \n",
       "196975    [Pre-Intro: 112] Keep it real (keep it real)...   \n",
       "197256    [Verse 1: Q Parker] Oh, I need to know where...   \n",
       "230199    [Couplet 1 : Booba] J'ai quelques principes ...   \n",
       "\n",
       "                          title  \n",
       "221344  fresku studiosessie 272  \n",
       "216669             swajjurkicks  \n",
       "196975   only you bad boy remix  \n",
       "197256                 only you  \n",
       "230199           on sait lfaire  "
      ]
     },
     "execution_count": 142,
     "metadata": {},
     "output_type": "execute_result"
    }
   ],
   "source": [
    "# keeping columns required for summarization task\n",
    "songs = songs[['lyrics_x', 'title']]\n",
    "songs = songs.dropna()\n",
    "songs.columns = ['lyrics', 'title']\n",
    "songs.head()"
   ]
  },
  {
   "cell_type": "code",
   "execution_count": 143,
   "id": "5b38a882",
   "metadata": {},
   "outputs": [],
   "source": [
    "songs.to_csv('./data/genius-expertiste_clean/songs.csv', index=False)"
   ]
  },
  {
   "cell_type": "markdown",
   "id": "e11a4992",
   "metadata": {},
   "source": [
    "# Final Dataset for Summarization"
   ]
  },
  {
   "cell_type": "code",
   "execution_count": 144,
   "id": "a414ce0e",
   "metadata": {},
   "outputs": [
    {
     "data": {
      "text/html": [
       "<div>\n",
       "<style scoped>\n",
       "    .dataframe tbody tr th:only-of-type {\n",
       "        vertical-align: middle;\n",
       "    }\n",
       "\n",
       "    .dataframe tbody tr th {\n",
       "        vertical-align: top;\n",
       "    }\n",
       "\n",
       "    .dataframe thead th {\n",
       "        text-align: right;\n",
       "    }\n",
       "</style>\n",
       "<table border=\"1\" class=\"dataframe\">\n",
       "  <thead>\n",
       "    <tr style=\"text-align: right;\">\n",
       "      <th></th>\n",
       "      <th>lyrics</th>\n",
       "      <th>title</th>\n",
       "    </tr>\n",
       "  </thead>\n",
       "  <tbody>\n",
       "    <tr>\n",
       "      <th>221344</th>\n",
       "      <td>[Verse] Eey Rare jongens die Romeinen Nieman...</td>\n",
       "      <td>fresku studiosessie 272</td>\n",
       "    </tr>\n",
       "    <tr>\n",
       "      <th>216669</th>\n",
       "      <td>[Chorus: 10k.Caash] Lean with my Brisk (Lean...</td>\n",
       "      <td>swajjurkicks</td>\n",
       "    </tr>\n",
       "    <tr>\n",
       "      <th>196975</th>\n",
       "      <td>[Pre-Intro: 112] Keep it real (keep it real)...</td>\n",
       "      <td>only you bad boy remix</td>\n",
       "    </tr>\n",
       "    <tr>\n",
       "      <th>197256</th>\n",
       "      <td>[Verse 1: Q Parker] Oh, I need to know where...</td>\n",
       "      <td>only you</td>\n",
       "    </tr>\n",
       "    <tr>\n",
       "      <th>230199</th>\n",
       "      <td>[Couplet 1 : Booba] J'ai quelques principes ...</td>\n",
       "      <td>on sait lfaire</td>\n",
       "    </tr>\n",
       "  </tbody>\n",
       "</table>\n",
       "</div>"
      ],
      "text/plain": [
       "                                                   lyrics  \\\n",
       "221344    [Verse] Eey Rare jongens die Romeinen Nieman...   \n",
       "216669    [Chorus: 10k.Caash] Lean with my Brisk (Lean...   \n",
       "196975    [Pre-Intro: 112] Keep it real (keep it real)...   \n",
       "197256    [Verse 1: Q Parker] Oh, I need to know where...   \n",
       "230199    [Couplet 1 : Booba] J'ai quelques principes ...   \n",
       "\n",
       "                          title  \n",
       "221344  fresku studiosessie 272  \n",
       "216669             swajjurkicks  \n",
       "196975   only you bad boy remix  \n",
       "197256                 only you  \n",
       "230199           on sait lfaire  "
      ]
     },
     "execution_count": 144,
     "metadata": {},
     "output_type": "execute_result"
    }
   ],
   "source": [
    "songs.head()"
   ]
  },
  {
   "cell_type": "code",
   "execution_count": null,
   "id": "b34c9172",
   "metadata": {},
   "outputs": [],
   "source": []
  }
 ],
 "metadata": {
  "kernelspec": {
   "display_name": "Python [conda env:huggingface]",
   "language": "python",
   "name": "conda-env-huggingface-py"
  },
  "language_info": {
   "codemirror_mode": {
    "name": "ipython",
    "version": 3
   },
   "file_extension": ".py",
   "mimetype": "text/x-python",
   "name": "python",
   "nbconvert_exporter": "python",
   "pygments_lexer": "ipython3",
   "version": "3.10.12"
  }
 },
 "nbformat": 4,
 "nbformat_minor": 5
}

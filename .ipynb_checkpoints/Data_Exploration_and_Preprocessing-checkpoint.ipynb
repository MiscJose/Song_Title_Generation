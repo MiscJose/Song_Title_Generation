{
 "cells": [
  {
   "cell_type": "code",
   "execution_count": 95,
   "id": "28021bef",
   "metadata": {},
   "outputs": [],
   "source": [
    "import pandas as pd\n",
    "import numpy as np\n",
    "import json\n",
    "import re"
   ]
  },
  {
   "cell_type": "code",
   "execution_count": 96,
   "id": "ab6309fd",
   "metadata": {},
   "outputs": [],
   "source": [
    "# Dataset attained from: https://www.cs.cornell.edu/~arb/data/genius-expertise/"
   ]
  },
  {
   "cell_type": "markdown",
   "id": "9931a7a0",
   "metadata": {},
   "source": [
    "# Annotation Dataset"
   ]
  },
  {
   "cell_type": "code",
   "execution_count": null,
   "id": "ed9757bf",
   "metadata": {},
   "outputs": [],
   "source": [
    "with open('./data/genius-expertise/annotation_info.json', encoding='utf-8') as f:\n",
    "    temp = []\n",
    "    for line in f.readlines():\n",
    "        temp.append(json.loads(line))\n",
    "annotations_df = pd.DataFrame(temp)"
   ]
  },
  {
   "cell_type": "code",
   "execution_count": null,
   "id": "674399d3",
   "metadata": {},
   "outputs": [],
   "source": [
    "# initial look\n",
    "annotations_df.head(3)"
   ]
  },
  {
   "cell_type": "code",
   "execution_count": null,
   "id": "4d124eb9",
   "metadata": {},
   "outputs": [],
   "source": [
    "# i'm only interested in annotations with edits_lst, also the most recent edit\n",
    "print('Number of Annotated Songs: {}'.format(annotations_df.shape[0]))\n",
    "annotations_df = annotations_df.dropna(axis=0 ,subset=['edits_lst'])\n",
    "print('Number of Annotated Songs after Filters: {}'.format(annotations_df.shape[0]))"
   ]
  },
  {
   "cell_type": "code",
   "execution_count": null,
   "id": "372d61bf",
   "metadata": {},
   "outputs": [],
   "source": [
    "# looking at an example\n",
    "annotations_df.iloc[10]['edits_lst'][0]['content']"
   ]
  },
  {
   "cell_type": "code",
   "execution_count": null,
   "id": "40f42677",
   "metadata": {},
   "outputs": [],
   "source": [
    "def clean_edits_lst(x):\n",
    "    # get first instance of edit\n",
    "    x = x[0]['content']\n",
    "    # extract text body from brackets (https://stackoverflow.com/a/12982689/21492082)\n",
    "    x = re.sub(re.compile('<.*?>') ,\"\",x)\n",
    "    # remove end of line\n",
    "    x = x.replace('\\n', '')\n",
    "    return x"
   ]
  },
  {
   "cell_type": "code",
   "execution_count": null,
   "id": "708a0f66",
   "metadata": {},
   "outputs": [],
   "source": [
    "# looking at a clean example\n",
    "print(clean_edits_lst(annotations_df.iloc[10]['edits_lst']))"
   ]
  },
  {
   "cell_type": "code",
   "execution_count": null,
   "id": "35e37bbf",
   "metadata": {},
   "outputs": [],
   "source": [
    "# map function to entire column\n",
    "annotations_df['edits_lst'] = annotations_df['edits_lst'].apply(clean_edits_lst)"
   ]
  },
  {
   "cell_type": "code",
   "execution_count": null,
   "id": "38156d7d",
   "metadata": {},
   "outputs": [],
   "source": [
    "# save cleaned dataset\n",
    "annotations_df.to_csv('./data/genius-expertiste_clean/annotation.csv', index=False)"
   ]
  },
  {
   "cell_type": "markdown",
   "id": "898eefa5",
   "metadata": {},
   "source": [
    "# Lyrics Dataset"
   ]
  },
  {
   "cell_type": "code",
   "execution_count": null,
   "id": "3879eb31",
   "metadata": {},
   "outputs": [],
   "source": [
    "with open('./data/genius-expertise/lyrics.jl', encoding='utf-8') as f:\n",
    "    temp = []\n",
    "    for line in f.readlines():\n",
    "        temp.append(json.loads(line))\n",
    "lyrics_df = pd.DataFrame(temp)"
   ]
  },
  {
   "cell_type": "code",
   "execution_count": null,
   "id": "74cdd506",
   "metadata": {},
   "outputs": [],
   "source": [
    "# looking at an example\n",
    "lyrics_df.iloc[10]['lyrics']"
   ]
  },
  {
   "cell_type": "code",
   "execution_count": null,
   "id": "d2b5ab26",
   "metadata": {},
   "outputs": [],
   "source": [
    "# looks like not much is required other than removing the end of line chars\n",
    "lyrics_df.iloc[10]['lyrics'].replace('\\n', ' ')"
   ]
  },
  {
   "cell_type": "code",
   "execution_count": null,
   "id": "449d8dee",
   "metadata": {},
   "outputs": [],
   "source": [
    "# map function to entire column\n",
    "lyrics_df['lyrics'] = lyrics_df['lyrics'].apply(lambda x: x.replace('\\n', ' '))\n",
    "lyrics_df"
   ]
  },
  {
   "cell_type": "code",
   "execution_count": null,
   "id": "b378614d",
   "metadata": {},
   "outputs": [],
   "source": [
    "# cleaning song column\n",
    "\n",
    "songs_dict = {}\n",
    "with open('./data/genius-expertise/artist_info.json', encoding='utf-8') as f:\n",
    "    temp = []\n",
    "    for line in f.readlines():\n",
    "        line = json.loads(line)\n",
    "        for song in line['songs']:\n",
    "            if '-and-' in song or 'mtv' in song or 'version' in song:\n",
    "                continue\n",
    "            artist = line['url_name']\n",
    "            if artist in song:\n",
    "                if song in songs_dict:\n",
    "                    pass\n",
    "                else:\n",
    "                    songs_dict[song] = ' '.join(song.replace(artist, ' ').split('-')[1:-1])"
   ]
  },
  {
   "cell_type": "code",
   "execution_count": null,
   "id": "5f243de0",
   "metadata": {},
   "outputs": [],
   "source": [
    "lyrics_df['song_clean'] = lyrics_df['song'].apply(lambda x: songs_dict.get(x, np.nan))\n",
    "lyrics_df = lyrics_df.dropna()"
   ]
  },
  {
   "cell_type": "code",
   "execution_count": null,
   "id": "b87225ea",
   "metadata": {},
   "outputs": [],
   "source": [
    "lyrics_df.head()"
   ]
  },
  {
   "cell_type": "code",
   "execution_count": null,
   "id": "4a79bcfe",
   "metadata": {},
   "outputs": [],
   "source": [
    "# save cleaned dataset\n",
    "lyrics_df.to_csv('./data/genius-expertiste_clean/lyrics.csv', index=False)"
   ]
  },
  {
   "cell_type": "markdown",
   "id": "3a10ed22",
   "metadata": {},
   "source": [
    "# Inner Join of Datasets"
   ]
  },
  {
   "cell_type": "code",
   "execution_count": null,
   "id": "14a7c486",
   "metadata": {},
   "outputs": [],
   "source": [
    "annotations_df = pd.read_csv('./data/genius-expertiste_clean/annotation.csv')\n",
    "lyrics_df = pd.read_csv('./data/genius-expertiste_clean/lyrics.csv')"
   ]
  },
  {
   "cell_type": "code",
   "execution_count": null,
   "id": "b74df6d7",
   "metadata": {},
   "outputs": [],
   "source": [
    "songs = lyrics_df.merge(annotations_df, how='inner', on='song')"
   ]
  },
  {
   "cell_type": "code",
   "execution_count": null,
   "id": "4785b5c7",
   "metadata": {},
   "outputs": [],
   "source": [
    "# multiple people can submit annotations per song; I want the highest voted one\n",
    "# incase I want to use the annotation column\n",
    "songs = songs.loc[songs.reset_index().groupby(['song'])['votes'].idxmax()]"
   ]
  },
  {
   "cell_type": "code",
   "execution_count": null,
   "id": "b0f88ca7",
   "metadata": {},
   "outputs": [],
   "source": [
    "songs.head()"
   ]
  },
  {
   "cell_type": "code",
   "execution_count": null,
   "id": "97929352",
   "metadata": {},
   "outputs": [],
   "source": [
    "# keeping columns required for summarization task\n",
    "songs = songs[['lyrics_x', 'song_clean']]\n",
    "songs = songs.dropna()\n",
    "songs.columns = ['lyrics', 'songs']\n",
    "songs.head()"
   ]
  },
  {
   "cell_type": "code",
   "execution_count": null,
   "id": "5b38a882",
   "metadata": {},
   "outputs": [],
   "source": [
    "songs.to_csv('./data/genius-expertiste_clean/songs.csv', index=False)"
   ]
  },
  {
   "cell_type": "markdown",
   "id": "e11a4992",
   "metadata": {},
   "source": [
    "# Final Dataset for Summarization"
   ]
  },
  {
   "cell_type": "code",
   "execution_count": null,
   "id": "a414ce0e",
   "metadata": {},
   "outputs": [],
   "source": [
    "songs.head()"
   ]
  },
  {
   "cell_type": "code",
   "execution_count": null,
   "id": "fcccbd7a",
   "metadata": {},
   "outputs": [],
   "source": []
  }
 ],
 "metadata": {
  "kernelspec": {
   "display_name": "Python [conda env:huggingface]",
   "language": "python",
   "name": "conda-env-huggingface-py"
  },
  "language_info": {
   "codemirror_mode": {
    "name": "ipython",
    "version": 3
   },
   "file_extension": ".py",
   "mimetype": "text/x-python",
   "name": "python",
   "nbconvert_exporter": "python",
   "pygments_lexer": "ipython3",
   "version": "3.10.12"
  }
 },
 "nbformat": 4,
 "nbformat_minor": 5
}

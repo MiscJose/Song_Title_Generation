{
 "cells": [
  {
   "cell_type": "code",
   "execution_count": 88,
   "id": "28021bef",
   "metadata": {},
   "outputs": [],
   "source": [
    "import pandas as pd\n",
    "import numpy as np\n",
    "import json\n",
    "import re"
   ]
  },
  {
   "cell_type": "code",
   "execution_count": 89,
   "id": "ab6309fd",
   "metadata": {},
   "outputs": [],
   "source": [
    "# Dataset attained from: https://www.cs.cornell.edu/~arb/data/genius-expertise/"
   ]
  },
  {
   "cell_type": "markdown",
   "id": "898eefa5",
   "metadata": {},
   "source": [
    "# Lyrics Dataset"
   ]
  },
  {
   "cell_type": "code",
   "execution_count": 90,
   "id": "3879eb31",
   "metadata": {},
   "outputs": [],
   "source": [
    "with open('./data/genius-expertise/lyrics.jl', encoding='utf-8') as f:\n",
    "    temp = []\n",
    "    for line in f.readlines():\n",
    "        temp.append(json.loads(line))\n",
    "lyrics_df = pd.DataFrame(temp)"
   ]
  },
  {
   "cell_type": "code",
   "execution_count": 91,
   "id": "74cdd506",
   "metadata": {},
   "outputs": [
    {
     "data": {
      "text/plain": [
       "\"\\n\\n[Produced by T-Minus]\\n\\n[Intro]\\nPour up (Drank), head shot (Drank)\\nSit down (Drank), stand up (Drank)\\nPass out (Drank), wake up (Drank)\\nFaded (Drank), faded (Drank)\\n\\n[Verse 1]\\nNow I done grew up 'round some people livin' their life in bottles\\nGranddaddy had the golden flask\\nBackstroke every day in Chicago\\nSome people like the way it feels\\nSome people wanna kill their sorrows\\nSome people wanna fit in with the popular, that was my problem\\nI was in a dark room, loud tunes\\nLookin' to make a vow soon\\nThat I'ma get fucked up, fillin' up my cup I see the crowd mood\\nChangin' by the minute and the record on repeat\\nTook a sip, then another sip, then somebody said to me\\n\\n[Chorus]\\nNigga, why you babysittin' only two or three shots?\\nI'ma show you how to turn it up a notch\\nFirst you get a swimming pool full of liquor, then you dive in it\\nPool full of liquor, then you dive in it\\nI wave a few bottles, then I watch 'em all flock\\nAll the girls wanna play Baywatch\\nI got a swimming pool full of liquor and they dive in it\\nPool full of liquor, I'ma dive in it\\n\\n[Refrain]\\nPour up (Drank), head shot (Drank)\\nSit down (Drank), stand up (Drank)\\nPass out (Drank), wake up (Drank)\\nFaded (Drank), faded (Drank)\\n\\n[Verse 2]\\nOkay, now open your mind up and listen me, Kendrick\\nI am your conscience, if you do not hear me\\nThen you will be history, Kendrick\\nI know that you're nauseous right now\\nAnd I'm hopin' to lead you to victory, Kendrick\\nIf I take another one down\\nI'ma drown in some poison, abusin' my limit\\nI think that I'm feelin' the vibe, I see the love in her eyes\\nI see the feelin', the freedom is granted\\nAs soon as the damage of vodka arrived\\nThis how you capitalize, this is parental advice\\nThen apparently, I'm over-influenced by what you are doin'\\nI thought I was doin' the most 'til someone said to me\\n\\n[Chorus]\\nNigga, why you babysittin' only two or three shots?\\nI'ma show you how to turn it up a notch\\nFirst you get a swimming pool full of liquor, then you dive in it\\nPool full of liquor, then you dive in it\\nI wave a few bottles, then I watch 'em all flock\\nAll the girls wanna play Baywatch\\nI got a swimming pool full of liquor and they dive in it\\nPool full of liquor, I'ma dive in it\\n\\n[Refrain]\\nPour up (Drank), head shot (Drank)\\nSit down (Drank), stand up (Drank)\\nPass out (Drank), wake up (Drank)\\nFaded (Drank), faded (Drank)\\n\\n[Bridge]\\nI ride, you ride, bang\\nOne chopper, 100 shots, bang\\nHop out, do you bang?\\nTwo chopper, 200 shots, bang\\nI ride, you ride, bang\\nOne chopper, 100 shots, bang\\nHop out, do you bang?\\nTwo chopper, 200 shots, bang\\n\\n[Chorus]\\nNigga, why you babysittin' only two or three shots?\\nI'ma show you how to turn it up a notch\\nFirst you get a swimming pool full of liquor, then you dive in it\\nPool full of liquor, then you dive in it\\nI wave a few bottles, then I watch 'em all flock\\nAll the girls wanna play Baywatch\\nI got a swimming pool full of liquor and they dive in it\\nPool full of liquor, I'ma dive in it\\n\\n[Refrain]\\nPour up (Drank), head shot (Drank)\\nSit down (Drank), stand up (Drank)\\nPass out (Drank), wake up (Drank)\\nFaded (Drank), faded (Drank)\\n\\n[Interlude: Sherane]\\nAw man… where is she takin' me?\\nWhere is she takin' me?\\n\\n[Verse 3]\\nAll I have in life is my new appetite for failure\\nAnd I got hunger pain that grow insane\\nTell me, do that sound familiar?\\nIf it do, then you're like me\\nMakin' excuse that your relief\\nIs in the bottom of the bottle and the greenest indo leaf\\nAs the window open I release\\nEverything that corrode inside of me\\nI see you jokin', why you laugh?\\nDon't you feel bad? I probably sleep\\nAnd never ever wake up, never ever wake up, never ever wake up\\nIn God I trust, but just when I thought I had enough\\n\\n[Outro]\\nThey stomped the homie out over a bitch?\\nK-dot, you good, blood?\\nNow we can drop, ye we can drop you back off\\nThat nigga's straight, man, that nigga ain't trippin'\\nWe gon' do the same ol' shit\\nI'ma pop a few shots, they gon' run, they gon' run opposite ways\\nFall right in ****'s lap\\nAnd he gon' tear they ass up, simple as that\\nAnd I hope that bitch that set him up out there\\nWe gon' pop that bitch too\\nWait hold up, ayy, I see somebody\\n[Car door opens and gunshots are fired]\\nAha! Got them niggas, K-Dot, you good?\\nL****, you good?\\nYeah, blood, I'm good – Dave, you good?\\nDave? Dave, say somethin' – Dave?\\nThese bitch-ass niggas killed my brother!\\n\\n\""
      ]
     },
     "execution_count": 91,
     "metadata": {},
     "output_type": "execute_result"
    }
   ],
   "source": [
    "# looking at an example\n",
    "lyrics_df.iloc[0]['lyrics']"
   ]
  },
  {
   "cell_type": "code",
   "execution_count": 92,
   "id": "d2b5ab26",
   "metadata": {},
   "outputs": [
    {
     "data": {
      "text/plain": [
       "\"Pour up (Drank), head shot (Drank)\\nSit down (Drank), stand up (Drank)\\nPass out (Drank), wake up (Drank)\\nFaded (Drank), faded (Drank)\\n\\n\\nNow I done grew up 'round some people livin' their life in bottles\\nGranddaddy had the golden flask\\nBackstroke every day in Chicago\\nSome people like the way it feels\\nSome people wanna kill their sorrows\\nSome people wanna fit in with the popular, that was my problem\\nI was in a dark room, loud tunes\\nLookin' to make a vow soon\\nThat I'ma get fucked up, fillin' up my cup I see the crowd mood\\nChangin' by the minute and the record on repeat\\nTook a sip, then another sip, then somebody said to me\\n\\n\\nNigga, why you babysittin' only two or three shots?\\nI'ma show you how to turn it up a notch\\nFirst you get a swimming pool full of liquor, then you dive in it\\nPool full of liquor, then you dive in it\\nI wave a few bottles, then I watch 'em all flock\\nAll the girls wanna play Baywatch\\nI got a swimming pool full of liquor and they dive in it\\nPool full of liquor, I'ma dive in it\\n\\n\\nPour up (Drank), head shot (Drank)\\nSit down (Drank), stand up (Drank)\\nPass out (Drank), wake up (Drank)\\nFaded (Drank), faded (Drank)\\n\\n\\nOkay, now open your mind up and listen me, Kendrick\\nI am your conscience, if you do not hear me\\nThen you will be history, Kendrick\\nI know that you're nauseous right now\\nAnd I'm hopin' to lead you to victory, Kendrick\\nIf I take another one down\\nI'ma drown in some poison, abusin' my limit\\nI think that I'm feelin' the vibe, I see the love in her eyes\\nI see the feelin', the freedom is granted\\nAs soon as the damage of vodka arrived\\nThis how you capitalize, this is parental advice\\nThen apparently, I'm over-influenced by what you are doin'\\nI thought I was doin' the most 'til someone said to me\\n\\n\\nNigga, why you babysittin' only two or three shots?\\nI'ma show you how to turn it up a notch\\nFirst you get a swimming pool full of liquor, then you dive in it\\nPool full of liquor, then you dive in it\\nI wave a few bottles, then I watch 'em all flock\\nAll the girls wanna play Baywatch\\nI got a swimming pool full of liquor and they dive in it\\nPool full of liquor, I'ma dive in it\\n\\n\\nPour up (Drank), head shot (Drank)\\nSit down (Drank), stand up (Drank)\\nPass out (Drank), wake up (Drank)\\nFaded (Drank), faded (Drank)\\n\\n\\nI ride, you ride, bang\\nOne chopper, 100 shots, bang\\nHop out, do you bang?\\nTwo chopper, 200 shots, bang\\nI ride, you ride, bang\\nOne chopper, 100 shots, bang\\nHop out, do you bang?\\nTwo chopper, 200 shots, bang\\n\\n\\nNigga, why you babysittin' only two or three shots?\\nI'ma show you how to turn it up a notch\\nFirst you get a swimming pool full of liquor, then you dive in it\\nPool full of liquor, then you dive in it\\nI wave a few bottles, then I watch 'em all flock\\nAll the girls wanna play Baywatch\\nI got a swimming pool full of liquor and they dive in it\\nPool full of liquor, I'ma dive in it\\n\\n\\nPour up (Drank), head shot (Drank)\\nSit down (Drank), stand up (Drank)\\nPass out (Drank), wake up (Drank)\\nFaded (Drank), faded (Drank)\\n\\n\\nAw man… where is she takin' me?\\nWhere is she takin' me?\\n\\n\\nAll I have in life is my new appetite for failure\\nAnd I got hunger pain that grow insane\\nTell me, do that sound familiar?\\nIf it do, then you're like me\\nMakin' excuse that your relief\\nIs in the bottom of the bottle and the greenest indo leaf\\nAs the window open I release\\nEverything that corrode inside of me\\nI see you jokin', why you laugh?\\nDon't you feel bad? I probably sleep\\nAnd never ever wake up, never ever wake up, never ever wake up\\nIn God I trust, but just when I thought I had enough\\n\\n\\nThey stomped the homie out over a bitch?\\nK-dot, you good, blood?\\nNow we can drop, ye we can drop you back off\\nThat nigga's straight, man, that nigga ain't trippin'\\nWe gon' do the same ol' shit\\nI'ma pop a few shots, they gon' run, they gon' run opposite ways\\nFall right in ****'s lap\\nAnd he gon' tear they ass up, simple as that\\nAnd I hope that bitch that set him up out there\\nWe gon' pop that bitch too\\nWait hold up, ayy, I see somebody\\n\\nAha! Got them niggas, K-Dot, you good?\\nL****, you good?\\nYeah, blood, I'm good – Dave, you good?\\nDave? Dave, say somethin' – Dave?\\nThese bitch-ass niggas killed my brother!\""
      ]
     },
     "execution_count": 92,
     "metadata": {},
     "output_type": "execute_result"
    }
   ],
   "source": [
    "# looks like not much is required other than removing the text beteween brackets\n",
    "\n",
    "re.sub(\"\\[.*?\\]\", \"\", lyrics_df.iloc[0]['lyrics']).strip('\\n')"
   ]
  },
  {
   "cell_type": "code",
   "execution_count": 93,
   "id": "449d8dee",
   "metadata": {},
   "outputs": [
    {
     "data": {
      "text/html": [
       "<div>\n",
       "<style scoped>\n",
       "    .dataframe tbody tr th:only-of-type {\n",
       "        vertical-align: middle;\n",
       "    }\n",
       "\n",
       "    .dataframe tbody tr th {\n",
       "        vertical-align: top;\n",
       "    }\n",
       "\n",
       "    .dataframe thead th {\n",
       "        text-align: right;\n",
       "    }\n",
       "</style>\n",
       "<table border=\"1\" class=\"dataframe\">\n",
       "  <thead>\n",
       "    <tr style=\"text-align: right;\">\n",
       "      <th></th>\n",
       "      <th>song</th>\n",
       "      <th>lyrics</th>\n",
       "    </tr>\n",
       "  </thead>\n",
       "  <tbody>\n",
       "    <tr>\n",
       "      <th>0</th>\n",
       "      <td>Kendrick-lamar-swimming-pools-drank-lyrics</td>\n",
       "      <td>Pour up (Drank), head shot (Drank)\\nSit down (...</td>\n",
       "    </tr>\n",
       "    <tr>\n",
       "      <th>1</th>\n",
       "      <td>Kendrick-lamar-money-trees-lyrics</td>\n",
       "      <td>Uh, me and my niggas tryna get it, ya bish (ya...</td>\n",
       "    </tr>\n",
       "    <tr>\n",
       "      <th>2</th>\n",
       "      <td>Kendrick-lamar-xxx-lyrics</td>\n",
       "      <td>America, God bless you if it's good to you\\nAm...</td>\n",
       "    </tr>\n",
       "    <tr>\n",
       "      <th>3</th>\n",
       "      <td>A-ap-rocky-fuckin-problems-lyrics</td>\n",
       "      <td>I love bad bitches, that's my fuckin' problem\\...</td>\n",
       "    </tr>\n",
       "    <tr>\n",
       "      <th>4</th>\n",
       "      <td>Kendrick-lamar-dna-lyrics</td>\n",
       "      <td>I got, I got, I got, I got—\\nLoyalty, got roya...</td>\n",
       "    </tr>\n",
       "    <tr>\n",
       "      <th>...</th>\n",
       "      <td>...</td>\n",
       "      <td>...</td>\n",
       "    </tr>\n",
       "    <tr>\n",
       "      <th>37988</th>\n",
       "      <td>Pnl-tchiki-tchiki-lyrics</td>\n",
       "      <td>Ouais, ouais, ouais, ouais, ouais\\nJ'sens l'od...</td>\n",
       "    </tr>\n",
       "    <tr>\n",
       "      <th>37989</th>\n",
       "      <td>Pnl-chang-lyrics</td>\n",
       "      <td>Chang, chang, chang, j'marche sur la muraille ...</td>\n",
       "    </tr>\n",
       "    <tr>\n",
       "      <th>37990</th>\n",
       "      <td>Pnl-simba-lyrics</td>\n",
       "      <td>Ouais, Ah on va voir\\nOuais, ouais\\nEt ça r'co...</td>\n",
       "    </tr>\n",
       "    <tr>\n",
       "      <th>37991</th>\n",
       "      <td>Pnl-je-thaine-version-orange-lyrics</td>\n",
       "      <td>Que dire à part que ça pue dans la street à pa...</td>\n",
       "    </tr>\n",
       "    <tr>\n",
       "      <th>37992</th>\n",
       "      <td>Drake-and-michael-jackson-dont-matter-to-me-ly...</td>\n",
       "      <td>Ayy, wild things you're doin' at night\\nTrips ...</td>\n",
       "    </tr>\n",
       "  </tbody>\n",
       "</table>\n",
       "<p>37993 rows × 2 columns</p>\n",
       "</div>"
      ],
      "text/plain": [
       "                                                    song  \\\n",
       "0             Kendrick-lamar-swimming-pools-drank-lyrics   \n",
       "1                      Kendrick-lamar-money-trees-lyrics   \n",
       "2                              Kendrick-lamar-xxx-lyrics   \n",
       "3                      A-ap-rocky-fuckin-problems-lyrics   \n",
       "4                              Kendrick-lamar-dna-lyrics   \n",
       "...                                                  ...   \n",
       "37988                           Pnl-tchiki-tchiki-lyrics   \n",
       "37989                                   Pnl-chang-lyrics   \n",
       "37990                                   Pnl-simba-lyrics   \n",
       "37991                Pnl-je-thaine-version-orange-lyrics   \n",
       "37992  Drake-and-michael-jackson-dont-matter-to-me-ly...   \n",
       "\n",
       "                                                  lyrics  \n",
       "0      Pour up (Drank), head shot (Drank)\\nSit down (...  \n",
       "1      Uh, me and my niggas tryna get it, ya bish (ya...  \n",
       "2      America, God bless you if it's good to you\\nAm...  \n",
       "3      I love bad bitches, that's my fuckin' problem\\...  \n",
       "4      I got, I got, I got, I got—\\nLoyalty, got roya...  \n",
       "...                                                  ...  \n",
       "37988  Ouais, ouais, ouais, ouais, ouais\\nJ'sens l'od...  \n",
       "37989  Chang, chang, chang, j'marche sur la muraille ...  \n",
       "37990  Ouais, Ah on va voir\\nOuais, ouais\\nEt ça r'co...  \n",
       "37991  Que dire à part que ça pue dans la street à pa...  \n",
       "37992  Ayy, wild things you're doin' at night\\nTrips ...  \n",
       "\n",
       "[37993 rows x 2 columns]"
      ]
     },
     "execution_count": 93,
     "metadata": {},
     "output_type": "execute_result"
    }
   ],
   "source": [
    "# map function to entire column\n",
    "\n",
    "lyrics_df['lyrics'] = lyrics_df['lyrics'].apply(lambda x: re.sub(\"\\n+\", \"\\n\", re.sub(\"\\[.*?\\]\", \"\", x)).strip('\\n'))\n",
    "lyrics_df"
   ]
  },
  {
   "cell_type": "code",
   "execution_count": 94,
   "id": "f819b42b",
   "metadata": {},
   "outputs": [],
   "source": [
    "# cleaning song column\n",
    "\n",
    "songs_dict = {}\n",
    "with open('./data/genius-expertise/artist_info.json', encoding='utf-8') as f:\n",
    "    temp = []\n",
    "    for line in f.readlines():\n",
    "        line = json.loads(line)\n",
    "        for song in line['songs']:\n",
    "            if '-and-' in song or 'mtv' in song or 'version' in song:\n",
    "                continue\n",
    "            artist = line['url_name']\n",
    "            if artist in song:\n",
    "                if song in songs_dict:\n",
    "                    pass\n",
    "                else:\n",
    "                    clean = ' '.join(song.replace(artist, ' ').split('-')[1:-1])\n",
    "                    if clean:\n",
    "                        songs_dict[song] = clean\n"
   ]
  },
  {
   "cell_type": "code",
   "execution_count": 95,
   "id": "8d18a384",
   "metadata": {},
   "outputs": [],
   "source": [
    "lyrics_df['song'] = lyrics_df['song'].apply(lambda x: songs_dict.get(x, np.nan))\n",
    "lyrics_df['lyrics'] = lyrics_df['lyrics'].apply(lambda x: x if x else np.nan)\n",
    "lyrics_df = lyrics_df.dropna()\n",
    "lyrics_df.columns = ['title', 'lyrics']"
   ]
  },
  {
   "cell_type": "code",
   "execution_count": 96,
   "id": "4a79bcfe",
   "metadata": {},
   "outputs": [],
   "source": [
    "# save cleaned dataset\n",
    "lyrics_df.to_csv('./data/genius-expertiste_clean/songs.csv', index=False)"
   ]
  },
  {
   "cell_type": "markdown",
   "id": "e11a4992",
   "metadata": {},
   "source": [
    "# Uploading Dataset to Hugging Face"
   ]
  },
  {
   "cell_type": "code",
   "execution_count": 97,
   "id": "a414ce0e",
   "metadata": {},
   "outputs": [
    {
     "data": {
      "application/vnd.jupyter.widget-view+json": {
       "model_id": "8897eae0420244889af7f7414f22f8d6",
       "version_major": 2,
       "version_minor": 0
      },
      "text/plain": [
       "VBox(children=(HTML(value='<center> <img\\nsrc=https://huggingface.co/front/assets/huggingface_logo-noborder.sv…"
      ]
     },
     "metadata": {},
     "output_type": "display_data"
    }
   ],
   "source": [
    "from huggingface_hub import notebook_login\n",
    "notebook_login()"
   ]
  },
  {
   "cell_type": "code",
   "execution_count": 98,
   "id": "b34c9172",
   "metadata": {},
   "outputs": [
    {
     "data": {
      "application/vnd.jupyter.widget-view+json": {
       "model_id": "d5727f3a04e946429065431f2a4bdf8d",
       "version_major": 2,
       "version_minor": 0
      },
      "text/plain": [
       "Downloading data files:   0%|          | 0/1 [00:00<?, ?it/s]"
      ]
     },
     "metadata": {},
     "output_type": "display_data"
    },
    {
     "data": {
      "application/vnd.jupyter.widget-view+json": {
       "model_id": "d515c44d2ecc4d169b03729e4dc7a74d",
       "version_major": 2,
       "version_minor": 0
      },
      "text/plain": [
       "Extracting data files:   0%|          | 0/1 [00:00<?, ?it/s]"
      ]
     },
     "metadata": {},
     "output_type": "display_data"
    },
    {
     "data": {
      "application/vnd.jupyter.widget-view+json": {
       "model_id": "84d167d1af8a429c8a557421ee32c8ec",
       "version_major": 2,
       "version_minor": 0
      },
      "text/plain": [
       "Generating train split: 0 examples [00:00, ? examples/s]"
      ]
     },
     "metadata": {},
     "output_type": "display_data"
    },
    {
     "data": {
      "application/vnd.jupyter.widget-view+json": {
       "model_id": "401bc02a7f2347d19e078a9e108b0d6a",
       "version_major": 2,
       "version_minor": 0
      },
      "text/plain": [
       "Pushing dataset shards to the dataset hub:   0%|          | 0/1 [00:00<?, ?it/s]"
      ]
     },
     "metadata": {},
     "output_type": "display_data"
    },
    {
     "data": {
      "application/vnd.jupyter.widget-view+json": {
       "model_id": "f6452a55de0b41a185b15c655bf3924b",
       "version_major": 2,
       "version_minor": 0
      },
      "text/plain": [
       "Creating parquet from Arrow format:   0%|          | 0/28 [00:00<?, ?ba/s]"
      ]
     },
     "metadata": {},
     "output_type": "display_data"
    },
    {
     "data": {
      "application/vnd.jupyter.widget-view+json": {
       "model_id": "8af52040d725492b9b66f3cd22ab6332",
       "version_major": 2,
       "version_minor": 0
      },
      "text/plain": [
       "Deleting unused files from dataset repository:   0%|          | 0/1 [00:00<?, ?it/s]"
      ]
     },
     "metadata": {},
     "output_type": "display_data"
    },
    {
     "data": {
      "application/vnd.jupyter.widget-view+json": {
       "model_id": "5cec58cfd92f41e3a12fdb24b28d5cf3",
       "version_major": 2,
       "version_minor": 0
      },
      "text/plain": [
       "Pushing dataset shards to the dataset hub:   0%|          | 0/1 [00:00<?, ?it/s]"
      ]
     },
     "metadata": {},
     "output_type": "display_data"
    },
    {
     "data": {
      "application/vnd.jupyter.widget-view+json": {
       "model_id": "dff13f1edb344cbdace904b4af2ea003",
       "version_major": 2,
       "version_minor": 0
      },
      "text/plain": [
       "Creating parquet from Arrow format:   0%|          | 0/4 [00:00<?, ?ba/s]"
      ]
     },
     "metadata": {},
     "output_type": "display_data"
    },
    {
     "data": {
      "application/vnd.jupyter.widget-view+json": {
       "model_id": "049a6f2ba0df4a32b6ce5012fc3861df",
       "version_major": 2,
       "version_minor": 0
      },
      "text/plain": [
       "Deleting unused files from dataset repository:   0%|          | 0/1 [00:00<?, ?it/s]"
      ]
     },
     "metadata": {},
     "output_type": "display_data"
    },
    {
     "data": {
      "application/vnd.jupyter.widget-view+json": {
       "model_id": "59a7f7cae9354c23b4797ff2c1c71275",
       "version_major": 2,
       "version_minor": 0
      },
      "text/plain": [
       "Pushing dataset shards to the dataset hub:   0%|          | 0/1 [00:00<?, ?it/s]"
      ]
     },
     "metadata": {},
     "output_type": "display_data"
    },
    {
     "data": {
      "application/vnd.jupyter.widget-view+json": {
       "model_id": "f8221c1b11da481c9a38907f23f6edac",
       "version_major": 2,
       "version_minor": 0
      },
      "text/plain": [
       "Creating parquet from Arrow format:   0%|          | 0/4 [00:00<?, ?ba/s]"
      ]
     },
     "metadata": {},
     "output_type": "display_data"
    },
    {
     "data": {
      "application/vnd.jupyter.widget-view+json": {
       "model_id": "d5e318a1e5f642c8b1ef5e051fd3deae",
       "version_major": 2,
       "version_minor": 0
      },
      "text/plain": [
       "Deleting unused files from dataset repository:   0%|          | 0/1 [00:00<?, ?it/s]"
      ]
     },
     "metadata": {},
     "output_type": "display_data"
    },
    {
     "data": {
      "application/vnd.jupyter.widget-view+json": {
       "model_id": "c64339ba74244318849d66a5a51b4156",
       "version_major": 2,
       "version_minor": 0
      },
      "text/plain": [
       "Downloading metadata:   0%|          | 0.00/721 [00:00<?, ?B/s]"
      ]
     },
     "metadata": {},
     "output_type": "display_data"
    }
   ],
   "source": [
    "from datasets import load_dataset\n",
    "\n",
    "songs = load_dataset('csv', data_files='./data/genius-expertiste_clean/songs.csv')\n",
    "\n",
    "# create train, validation, test splits (80/10/10)\n",
    "\n",
    "from datasets import DatasetDict\n",
    "\n",
    "songs = songs['train'].train_test_split(test_size=0.2)\n",
    "songs_validation_test = songs['test'].train_test_split(test_size=0.5)\n",
    "\n",
    "songs = DatasetDict({\n",
    "    'train': songs['train'],\n",
    "    'test': songs_validation_test['train'],\n",
    "    'validation': songs_validation_test['test'],\n",
    "    \n",
    "})\n",
    "\n",
    "songs.push_to_hub(\"miscjose/genius\")"
   ]
  },
  {
   "cell_type": "code",
   "execution_count": null,
   "id": "bcd63b88",
   "metadata": {},
   "outputs": [],
   "source": []
  }
 ],
 "metadata": {
  "kernelspec": {
   "display_name": "Python [conda env:huggingface]",
   "language": "python",
   "name": "conda-env-huggingface-py"
  },
  "language_info": {
   "codemirror_mode": {
    "name": "ipython",
    "version": 3
   },
   "file_extension": ".py",
   "mimetype": "text/x-python",
   "name": "python",
   "nbconvert_exporter": "python",
   "pygments_lexer": "ipython3",
   "version": "3.10.12"
  }
 },
 "nbformat": 4,
 "nbformat_minor": 5
}
